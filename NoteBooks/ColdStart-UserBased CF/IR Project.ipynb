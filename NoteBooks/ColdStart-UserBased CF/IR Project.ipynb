{
 "cells": [
  {
   "cell_type": "code",
   "execution_count": null,
   "id": "86c1bad1",
   "metadata": {},
   "outputs": [],
   "source": [
    "import pandas as pd\n",
    "import numpy as np\n",
    "from sklearn.metrics.pairwise import cosine_similarity\n",
    "from sklearn.preprocessing import MinMaxScaler\n",
    "from sklearn.preprocessing import MultiLabelBinarizer"
   ]
  },
  {
   "cell_type": "code",
   "execution_count": null,
   "id": "dbbf4889",
   "metadata": {},
   "outputs": [],
   "source": [
    "# Step 1: Load and preprocess the data\n",
    "animes = pd.read_csv('animes.csv')\n",
    "profiles = pd.read_csv('profiles.csv')\n",
    "reviews = pd.read_csv('reviews.csv')"
   ]
  },
  {
   "cell_type": "code",
   "execution_count": null,
   "id": "d262f336",
   "metadata": {},
   "outputs": [],
   "source": [
    "animes.columns"
   ]
  },
  {
   "cell_type": "code",
   "execution_count": null,
   "id": "da736649",
   "metadata": {},
   "outputs": [],
   "source": [
    "profiles.columns"
   ]
  },
  {
   "cell_type": "code",
   "execution_count": null,
   "id": "a58ac271",
   "metadata": {},
   "outputs": [],
   "source": [
    "reviews.columns"
   ]
  },
  {
   "cell_type": "code",
   "execution_count": null,
   "id": "0f760ec0",
   "metadata": {},
   "outputs": [],
   "source": [
    "reviews"
   ]
  },
  {
   "cell_type": "code",
   "execution_count": null,
   "id": "b12d7eee",
   "metadata": {},
   "outputs": [],
   "source": [
    "print(reviews)"
   ]
  },
  {
   "cell_type": "code",
   "execution_count": null,
   "id": "ed3392db",
   "metadata": {},
   "outputs": [],
   "source": [
    "animes"
   ]
  },
  {
   "cell_type": "code",
   "execution_count": null,
   "id": "9d12b8cb",
   "metadata": {},
   "outputs": [],
   "source": [
    "animes = animes.drop_duplicates(subset=['title'], keep='first')"
   ]
  },
  {
   "cell_type": "code",
   "execution_count": null,
   "id": "57d227ef",
   "metadata": {},
   "outputs": [],
   "source": [
    "animes.columns"
   ]
  },
  {
   "cell_type": "code",
   "execution_count": null,
   "id": "2392ea81",
   "metadata": {},
   "outputs": [],
   "source": [
    "animes.columns"
   ]
  },
  {
   "cell_type": "code",
   "execution_count": null,
   "id": "077adc46",
   "metadata": {},
   "outputs": [],
   "source": [
    "import re\n",
    "\n",
    "# Step 2: Feature engineering (simplified for this example)\n",
    "def extract_genres(genre_str):\n",
    "    if isinstance(genre_str, str):\n",
    "        return re.findall(r\"\\w+\\s?\\w*\", genre_str)\n",
    "    else:\n",
    "        return []\n",
    "\n",
    "animes['genres'] = animes['genre'].apply(extract_genres)\n",
    "mlb = MultiLabelBinarizer()\n",
    "genres_encoded = mlb.fit_transform(animes['genres'])\n",
    "genres_df = pd.DataFrame(genres_encoded, columns=mlb.classes_)\n",
    "animes = pd.concat([animes.drop(['genres'], axis=1), genres_df], axis=1)"
   ]
  },
  {
   "cell_type": "code",
   "execution_count": null,
   "id": "ccde61c1",
   "metadata": {},
   "outputs": [],
   "source": [
    "animes.columns"
   ]
  },
  {
   "cell_type": "code",
   "execution_count": null,
   "id": "a2e4a066",
   "metadata": {},
   "outputs": [],
   "source": [
    "animes.head()"
   ]
  },
  {
   "cell_type": "code",
   "execution_count": null,
   "id": "5e9df941",
   "metadata": {},
   "outputs": [],
   "source": [
    "scaler = MinMaxScaler()\n",
    "animes[['ranked', 'popularity', 'score']] = scaler.fit_transform(animes[['ranked', 'popularity', 'score']])"
   ]
  },
  {
   "cell_type": "code",
   "execution_count": null,
   "id": "28ae056f",
   "metadata": {
    "scrolled": true
   },
   "outputs": [],
   "source": [
    "animes.dtypes"
   ]
  },
  {
   "cell_type": "code",
   "execution_count": null,
   "id": "dabc0985",
   "metadata": {},
   "outputs": [],
   "source": [
    "# Fill NaN values with zeros\n",
    "animes_cleaned = animes.drop(['title', 'synopsis', 'genre', 'aired', 'img_url', 'link'], axis=1).fillna(0)\n",
    "\n",
    "# Check if there are any infinity values\n",
    "print(\"Contains infinity values:\", np.any(np.isinf(animes_cleaned)))"
   ]
  },
  {
   "cell_type": "code",
   "execution_count": null,
   "id": "540ae88b",
   "metadata": {},
   "outputs": [],
   "source": [
    "animes_cleaned"
   ]
  },
  {
   "cell_type": "code",
   "execution_count": null,
   "id": "686088ec",
   "metadata": {},
   "outputs": [],
   "source": [
    "similarity_matrix = cosine_similarity(animes_cleaned)"
   ]
  },
  {
   "cell_type": "code",
   "execution_count": null,
   "id": "cb1f54c8",
   "metadata": {},
   "outputs": [],
   "source": [
    "similarity_matrix[0]"
   ]
  },
  {
   "cell_type": "code",
   "execution_count": null,
   "id": "63900c5d",
   "metadata": {},
   "outputs": [],
   "source": [
    "def recommend_animes_by_genres(user_favorite_genres, k=10):\n",
    "    genre_columns = [col for col in animes.columns if col in user_favorite_genres]\n",
    "    genre_scores = animes[genre_columns].sum(axis=1)\n",
    "    top_k_indices = genre_scores.argsort()[-k:][::-1]\n",
    "    \n",
    "    return [get_anime_title(idx) for idx in top_k_indices]"
   ]
  },
  {
   "cell_type": "markdown",
   "id": "b8e174f5",
   "metadata": {},
   "source": [
    "The function works by creating a subset of the animes DataFrame that only includes the columns corresponding to the user's favorite genres. The values in these columns are either 0 or 1, indicating whether the anime belongs to that genre or not. The function then sums up these values along the rows (axis=1) for each anime, creating a total \"genre score\" for each anime. This score represents how many of the user's favorite genres are present in each anime.\n",
    "\n",
    "For example, if the user's favorite genres are ['Vampire', 'Horror', 'Demons'], the \"genre score\" for each anime would be the sum of the values in these three columns. An anime with all three genres would get a score of 3, while an anime with only one of these genres would get a score of 1.\n",
    "\n",
    "The function then sorts the animes based on their genre scores in descending order and selects the top-k animes with the highest scores. These animes are recommended to the user since they align most closely with the user's favorite genres."
   ]
  },
  {
   "cell_type": "code",
   "execution_count": null,
   "id": "bcd5012e",
   "metadata": {},
   "outputs": [],
   "source": [
    "def get_anime_id(title):\n",
    "    anime_df = animes[animes['title'] == title]\n",
    "    if not anime_df.empty:\n",
    "        return anime_df.index[0]\n",
    "    else:\n",
    "        return None\n",
    "\n",
    "def get_anime_title(anime_id):\n",
    "    return animes.iloc[anime_id]['title']\n",
    "\n",
    "def recommend_animes_by_titles(user_favorite_titles, k=10):\n",
    "    user_favorites_ids = [get_anime_id(title) for title in user_favorite_titles]\n",
    "    user_favorites_ids = [x for x in user_favorites_ids if x is not None]  # Remove any None values\n",
    "    user_similarities = np.sum(similarity_matrix[user_favorites_ids], axis=0)\n",
    "    top_k_indices = user_similarities.argsort()[-k-1:][::-1]\n",
    "    top_k_indices = [idx for idx in top_k_indices if idx not in user_favorites_ids][:k]\n",
    "    \n",
    "    return [get_anime_title(idx) for idx in top_k_indices]"
   ]
  },
  {
   "cell_type": "markdown",
   "id": "b70d4ad2",
   "metadata": {},
   "source": [
    "The recommend_animes_by_titles() function is designed to recommend new animes to a user based on their favorite anime titles. Here's a simple explanation of how it works:\n",
    "\n",
    "First, the function finds the IDs of the user's favorite animes by looking them up in the dataset.\n",
    "Next, it calculates the similarity between the user's favorite animes and all other animes in the dataset. The more similar two animes are, the higher their similarity score.\n",
    "The function then identifies the top-k most similar animes to the user's favorites. These are the animes with the highest similarity scores.\n",
    "To avoid recommending animes the user has already seen, it removes the user's favorite animes from the list of top-k similar animes.\n",
    "Finally, the function returns the titles of the top-k recommended animes.\n",
    "In simple terms, the recommend_animes_by_titles() function recommends new animes to the user by finding animes that are most similar to their favorites based on their features."
   ]
  },
  {
   "cell_type": "code",
   "execution_count": null,
   "id": "a016f83b",
   "metadata": {},
   "outputs": [],
   "source": [
    "def recommend_animes_by_genres_and_similarity(user_favorite_titles, user_favorite_genres, k=10):\n",
    "    user_favorites_ids = [get_anime_id(title) for title in user_favorite_titles]\n",
    "    user_favorites_ids = [x for x in user_favorites_ids if x is not None]  # Remove any None values\n",
    "    \n",
    "    genre_columns = [col for col in animes.columns if col in user_favorite_genres]\n",
    "    genre_scores = animes[genre_columns].sum(axis=1)\n",
    "    \n",
    "    user_similarities = np.sum(similarity_matrix[user_favorites_ids], axis=0)\n",
    "    combined_scores = genre_scores * user_similarities\n",
    "    \n",
    "    top_k_indices = combined_scores.argsort()[-k-1:][::-1]\n",
    "    top_k_indices = [idx for idx in top_k_indices if idx not in user_favorites_ids][:k]\n",
    "\n",
    "    return [get_anime_title(idx) for idx in top_k_indices]\n"
   ]
  },
  {
   "cell_type": "markdown",
   "id": "8320be3e",
   "metadata": {},
   "source": [
    "The recommend_animes_by_genres_and_similarity() function is designed to recommend new animes to a user based on both their favorite anime titles and favorite genres. Here's a simple explanation of how it works:\n",
    "\n",
    "First, the function finds the IDs of the user's favorite animes by looking them up in the dataset.\n",
    "Next, it identifies the genre columns in the dataset that match the user's favorite genres and calculates a genre score for each anime by summing up their values in those columns.\n",
    "The function then calculates the similarity between the user's favorite animes and all other animes in the dataset. The more similar two animes are, the higher their similarity score.\n",
    "To combine the genre preferences with the similarity information, the function multiplies the genre scores with the similarity scores, creating a combined score for each anime.\n",
    "The function identifies the top-k animes with the highest combined scores.\n",
    "To avoid recommending animes the user has already seen, it removes the user's favorite animes from the list of top-k animes with the highest combined scores.\n",
    "Finally, the function returns the titles of the top-k recommended animes.\n",
    "In simple terms, the recommend_animes_by_genres_and_similarity() function recommends new animes to the user by finding animes that have similar features to their favorite titles and also match their favorite genres, resulting in a more personalized recommendation."
   ]
  },
  {
   "cell_type": "code",
   "execution_count": null,
   "id": "9c158ccf",
   "metadata": {},
   "outputs": [],
   "source": [
    "user_favorites_titles = ['Naruto', 'Death Note', 'Attack on Titan']  # Example list of favorite animes\n",
    "\n",
    "recommendations = recommend_animes_by_titles(user_favorites_titles)\n",
    "print(\"User's favorite animes titles:\", user_favorites_titles)\n",
    "print(\"Recommended animes:\", recommendations)\n",
    "\n",
    "user_favorites_genres = ['Vampire', 'Horror', 'Demons']  # Example list of favorite animes\n",
    "print()\n",
    "recommendations = recommend_animes_by_genres(user_favorites_genres)\n",
    "print(\"User's favorite animes genres:\", user_favorites_genres)\n",
    "print(\"Recommended animes:\", recommendations)\n",
    "print()\n",
    "print()\n",
    "recommendations = recommend_animes_by_genres_and_similarity(user_favorites_titles,user_favorites_genres)\n",
    "print(\"Recommended animes combined:\", recommendations)"
   ]
  },
  {
   "cell_type": "code",
   "execution_count": null,
   "id": "7706045a",
   "metadata": {},
   "outputs": [],
   "source": []
  },
  {
   "cell_type": "code",
   "execution_count": null,
   "id": "63f8828f",
   "metadata": {},
   "outputs": [],
   "source": [
    "# 1. Aggregate the scores for each anime from the reviews dataframe\n",
    "aggregated_scores = reviews.groupby('anime_uid')['score'].agg(['mean', 'count']).reset_index()\n",
    "\n",
    "# 2. Merge the aggregated scores with the animes dataframe\n",
    "animes = pd.merge(animes, aggregated_scores, left_on='uid', right_on='anime_uid', how='left')\n",
    "\n",
    "# Normalize the mean score and the number of reviews\n",
    "animes[['mean', 'count']] = scaler.fit_transform(animes[['mean', 'count']])"
   ]
  },
  {
   "cell_type": "markdown",
   "id": "3cce05f1",
   "metadata": {},
   "source": [
    "Calculating the count (number of reviews) along with the mean score is important because it provides context to the mean score and can help improve the quality of recommendations.\n",
    "\n",
    "Consider two animes, A and B:\n",
    "\n",
    "Anime A has a mean score of 9 based on 1,000 reviews.\n",
    "Anime B has a mean score of 9.5 based on only 10 reviews.\n",
    "While anime B has a higher mean score, it is based on a small number of reviews, which may not provide a reliable assessment of its quality. On the other hand, the mean score of anime A is based on a larger number of reviews, which indicates that it's more likely to be a better representation of the general audience's opinion.\n",
    "\n",
    "By including the count (number of reviews) as a factor in the recommendation function, you give more importance to animes with a larger number of reviews. This can help ensure that the recommendations are not only based on high mean scores but also on the reliability of those scores.\n",
    "\n",
    "The review_c"
   ]
  },
  {
   "cell_type": "code",
   "execution_count": null,
   "id": "9b316a4e",
   "metadata": {},
   "outputs": [],
   "source": [
    "animes_cleaned = animes.drop(['title', 'synopsis', 'genre', 'aired', 'img_url', 'link'], axis=1).fillna(0)\n",
    "animes_cleaned"
   ]
  },
  {
   "cell_type": "code",
   "execution_count": null,
   "id": "691d668c",
   "metadata": {},
   "outputs": [],
   "source": []
  },
  {
   "cell_type": "code",
   "execution_count": null,
   "id": "595c6f48",
   "metadata": {},
   "outputs": [],
   "source": []
  },
  {
   "cell_type": "code",
   "execution_count": null,
   "id": "f96d64e3",
   "metadata": {},
   "outputs": [],
   "source": [
    "similarity_matrix = cosine_similarity(animes_cleaned)"
   ]
  },
  {
   "cell_type": "code",
   "execution_count": null,
   "id": "d418f92f",
   "metadata": {},
   "outputs": [],
   "source": [
    "def recommend_animes_by_titles_and_score(user_favorite_titles, k=10, score_weight=0.5, review_count_weight=0.5):\n",
    "    user_favorites_ids = [get_anime_id(title) for title in user_favorite_titles]\n",
    "    user_favorites_ids = [x for x in user_favorites_ids if x is not None]  # Remove any None values\n",
    "    user_similarities = np.sum(similarity_matrix[user_favorites_ids], axis=0)\n",
    "    \n",
    "    # Weighted sum of user_similarities, mean score, and review count\n",
    "    combined_scores = user_similarities + score_weight * animes['mean'] + review_count_weight * animes['count']\n",
    "    \n",
    "    top_k_indices = combined_scores.argsort()[-k-1:][::-1]\n",
    "    top_k_indices = [idx for idx in top_k_indices if idx not in user_favorites_ids][:k]\n",
    "    \n",
    "    return [get_anime_title(idx) for idx in top_k_indices]\n",
    "\n",
    "# Test the new recommendation function\n",
    "recommendations = recommend_animes_by_titles_and_score(user_favorites_titles)\n",
    "print(\"User's favorite animes titles:\", user_favorites_titles)\n",
    "print(\"Recommended animes based on titles and scores:\", recommendations)"
   ]
  },
  {
   "cell_type": "code",
   "execution_count": null,
   "id": "90cbe11b",
   "metadata": {},
   "outputs": [],
   "source": []
  },
  {
   "cell_type": "code",
   "execution_count": null,
   "id": "ac8c6fab",
   "metadata": {},
   "outputs": [],
   "source": []
  },
  {
   "cell_type": "markdown",
   "id": "8437c710",
   "metadata": {},
   "source": [
    "Increase the weight of the user's favorite genres: When calculating the combined_scores in the recommend_animes_by_genres_and_similarity() function, you can increase the weight given to the user's favorite genres to emphasize their importance."
   ]
  },
  {
   "cell_type": "code",
   "execution_count": null,
   "id": "f8491ddf",
   "metadata": {},
   "outputs": [],
   "source": [
    "def get_genre_score(user_favorite_genres):\n",
    "    genre_columns = [col for col in animes.columns if col in user_favorite_genres]\n",
    "    genre_scores = animes[genre_columns].sum(axis=1)\n",
    "    return genre_scores"
   ]
  },
  {
   "cell_type": "code",
   "execution_count": null,
   "id": "407ffc7e",
   "metadata": {},
   "outputs": [],
   "source": [
    "animes"
   ]
  },
  {
   "cell_type": "code",
   "execution_count": null,
   "id": "3a049b12",
   "metadata": {},
   "outputs": [],
   "source": [
    "user_favorites_genres = ['Supernatural', 'Vampire', 'Demons']\n",
    "genre_scores = get_genre_score(user_favorites_genres)\n",
    "genre_scores"
   ]
  },
  {
   "cell_type": "code",
   "execution_count": null,
   "id": "c504d7be",
   "metadata": {},
   "outputs": [],
   "source": []
  },
  {
   "cell_type": "code",
   "execution_count": null,
   "id": "12a35b8f",
   "metadata": {},
   "outputs": [],
   "source": [
    "def recommend_animes_by_genres_and_similarity(user_favorite_titles, user_favorite_genres, k=10, genre_weight=2.0):\n",
    "    user_favorites_ids = [get_anime_id(title) for title in user_favorite_titles]\n",
    "    user_favorites_ids = [x for x in user_favorites_ids if x is not None]  # Remove any None values\n",
    "    \n",
    "    genre_scores = get_genre_score(user_favorite_genres)\n",
    "    \n",
    "    user_similarities = np.sum(similarity_matrix[user_favorites_ids], axis=0)\n",
    "    combined_scores = user_similarities + genre_weight * genre_scores\n",
    "    \n",
    "    top_k_indices = combined_scores.argsort()[-k-1:][::-1]\n",
    "    top_k_indices = [idx for idx in top_k_indices if idx not in user_favorites_ids][:k]\n",
    "\n",
    "    return [get_anime_title(idx) for idx in top_k_indices]\n",
    "\n",
    "# Test the updated recommendation function\n",
    "user_favorites_titles = ['Naruto', 'Death Note', 'Attack on Titan']\n",
    "user_favorites_genres = ['Vampire', 'Horror', 'Demons']\n",
    "recommendations = recommend_animes_by_genres_and_similarity(user_favorites_titles, user_favorites_genres)\n",
    "print(\"Recommended animes:\", recommendations)"
   ]
  },
  {
   "cell_type": "code",
   "execution_count": null,
   "id": "35ff91cf",
   "metadata": {},
   "outputs": [],
   "source": [
    "def recommend_animes_by_genres_and_similarity(user_favorite_titles, user_favorite_genres, k=10, genre_weight=3.0):\n",
    "    user_favorites_ids = [get_anime_id(title) for title in user_favorite_titles]\n",
    "    user_favorites_ids = [x for x in user_favorites_ids if x is not None]  # Remove any None values\n",
    "    \n",
    "    genre_scores = get_genre_score(user_favorite_genres)\n",
    "    \n",
    "    user_similarities = np.sum(similarity_matrix[user_favorites_ids], axis=0)\n",
    "    combined_scores = user_similarities + genre_weight * genre_scores\n",
    "    \n",
    "    top_k_indices = combined_scores.argsort()[-k-1:][::-1]\n",
    "    top_k_indices = [idx for idx in top_k_indices if idx not in user_favorites_ids][:k]\n",
    "\n",
    "    return [get_anime_title(idx) for idx in top_k_indices]\n",
    "\n",
    "# Test the updated recommendation function\n",
    "user_favorites_titles = ['Naruto', 'Death Note', 'Attack on Titan']\n",
    "user_favorites_genres = ['Vampire', 'Horror', 'Demons']\n",
    "recommendations = recommend_animes_by_genres_and_similarity(user_favorites_titles, user_favorites_genres)\n",
    "print(\"Recommended animes:\", recommendations)"
   ]
  },
  {
   "cell_type": "code",
   "execution_count": null,
   "id": "a25ae7c6",
   "metadata": {},
   "outputs": [],
   "source": [
    "def recommend_animes_by_genres_only(user_favorite_genres, k=10):\n",
    "    genre_scores = get_genre_score(user_favorite_genres)\n",
    "    \n",
    "    top_k_indices = genre_scores.argsort()[-k:][::-1]\n",
    "    \n",
    "    return [get_anime_title(idx) for idx in top_k_indices]\n",
    "\n",
    "# Test the recommendation function with genres only\n",
    "user_favorites_genres = ['Vampire', 'Horror', 'Demons']\n",
    "recommendations = recommend_animes_by_genres_only(user_favorites_genres)\n",
    "print(\"Recommended animes:\", recommendations)\n"
   ]
  },
  {
   "cell_type": "code",
   "execution_count": null,
   "id": "a6cd9a22",
   "metadata": {},
   "outputs": [],
   "source": [
    "# Your specified genres array\n",
    "genres_18_above = ['Hentai', 'Ecchi', 'Haren','Yuri','Yaoi']\n",
    "\n",
    "# Function to check if any genre from the array is in the anime genres\n",
    "def is_18_above(genre_str):\n",
    "    if isinstance(genre_str, str):\n",
    "        for genre in genres_18_above:\n",
    "            if genre in genre_str:\n",
    "                return 1\n",
    "            return 0\n",
    "\n",
    "# Add the '18_above' column to the animes DataFrame\n",
    "animes['18_above'] = animes['genre'].apply(is_18_above)\n",
    "\n",
    "# Display the updated animes DataFrame\n",
    "print(animes['18_above'].value_counts())"
   ]
  },
  {
   "cell_type": "code",
   "execution_count": null,
   "id": "7a58d5d7",
   "metadata": {},
   "outputs": [],
   "source": []
  },
  {
   "cell_type": "code",
   "execution_count": null,
   "id": "6bba2760",
   "metadata": {},
   "outputs": [],
   "source": [
    "def recommend_animes_by_genres_only(user_favorite_genres, k=10, age=None):\n",
    "    genre_scores = get_genre_score(user_favorite_genres)\n",
    "    \n",
    "    if age is not None and age < 18:\n",
    "        genre_scores = genre_scores[animes['18_above'] == 0]\n",
    "    \n",
    "    top_k_indices = genre_scores.argsort()[-k:][::-1]\n",
    "    \n",
    "    return [get_anime_title(idx) for idx in top_k_indices]\n",
    "\n",
    "def recommend_animes_by_titles(user_favorite_titles, k=10, age=None):\n",
    "    user_favorites_ids = [get_anime_id(title) for title in user_favorite_titles]\n",
    "    user_favorites_ids = [x for x in user_favorites_ids if x is not None]  # Remove any None values\n",
    "    user_similarities = np.sum(similarity_matrix[user_favorites_ids], axis=0)\n",
    "    \n",
    "    if age is not None and age < 18:\n",
    "        user_similarities = user_similarities[animes['18_above'] == 0]\n",
    "    \n",
    "    top_k_indices = user_similarities.argsort()[-k-1:][::-1]\n",
    "    top_k_indices = [idx for idx in top_k_indices if idx not in user_favorites_ids][:k]\n",
    "    \n",
    "    return [get_anime_title(idx) for idx in top_k_indices]\n",
    "\n",
    "def recommend_animes_by_genres_and_similarity(user_favorite_titles, user_favorite_genres, k=10, age=None):\n",
    "    user_favorites_ids = [get_anime_id(title) for title in user_favorite_titles]\n",
    "    user_favorites_ids = [x for x in user_favorites_ids if x is not None]  # Remove any None values\n",
    "    \n",
    "    genre_columns = [col for col in animes.columns if col in user_favorite_genres]\n",
    "    genre_scores = animes[genre_columns].sum(axis=1)\n",
    "    \n",
    "    user_similarities = np.sum(similarity_matrix[user_favorites_ids], axis=0)\n",
    "    combined_scores = genre_scores * user_similarities\n",
    "    \n",
    "    if age is not None and age < 18:\n",
    "        combined_scores = combined_scores[animes['18_above'] == 0]\n",
    "    \n",
    "    top_k_indices = combined_scores.argsort()[-k-1:][::-1]\n",
    "    top_k_indices = [idx for idx in top_k_indices if idx not in user_favorites_ids][:k]\n",
    "\n",
    "    return [get_anime_title(idx) for idx in top_k_indices]\n"
   ]
  },
  {
   "cell_type": "code",
   "execution_count": null,
   "id": "72b1c535",
   "metadata": {},
   "outputs": [],
   "source": [
    "user_favorites_titles = ['Naruto', 'Death Note', 'Attack on Titan']\n",
    "user_favorites_genres = ['Vampire', 'Horror', 'Demons']\n",
    "user_age = 16\n",
    "\n",
    "recommendations = recommend_animes_by_titles(user_favorites_titles, age=user_age)\n",
    "print(\"Recommended animes by titles:\", recommendations)\n",
    "\n",
    "recommendations = recommend_animes_by_genres_only(user_favorites_genres, age=user_age)\n",
    "print(\"Recommended animes by genres:\", recommendations)\n",
    "\n",
    "recommendations = recommend_animes_by_genres_and_similarity(user_favorites_titles, user_favorites_genres, age=user_age)\n",
    "print(\"Recommended animes combined:\", recommendations)"
   ]
  },
  {
   "cell_type": "code",
   "execution_count": null,
   "id": "bebf92c5",
   "metadata": {},
   "outputs": [],
   "source": []
  },
  {
   "cell_type": "code",
   "execution_count": null,
   "id": "3d5f78d5",
   "metadata": {},
   "outputs": [],
   "source": [
    "def recommend_animes_by_genres_only(user_favorite_genres, k=10, age=None, type=None):\n",
    "    genre_scores = get_genre_score(user_favorite_genres)\n",
    "\n",
    "    valid_animes = animes.copy()\n",
    "\n",
    "    if age is not None and age < 18:\n",
    "        valid_animes = valid_animes[valid_animes['18_above'] == 0]\n",
    "\n",
    "    if type == 'movie':\n",
    "        valid_animes = valid_animes[valid_animes['episodes'] == 1]\n",
    "    elif type == 'series':\n",
    "        valid_animes = valid_animes[valid_animes['episodes'] > 1]\n",
    "\n",
    "    genre_scores = pd.Series(genre_scores, index=animes.index)\n",
    "    genre_scores = genre_scores.loc[valid_animes.index]\n",
    "\n",
    "    top_k_indices = genre_scores.nlargest(k).index\n",
    "\n",
    "    return [get_anime_title(idx) for idx in top_k_indices]\n",
    "\n",
    "def recommend_animes_by_titles(user_favorite_titles, k=10, age=None, type=None):\n",
    "    user_favorites_ids = [get_anime_id(title) for title in user_favorite_titles]\n",
    "    user_favorites_ids = [x for x in user_favorites_ids if x is not None]  # Remove any None values\n",
    "    user_similarities = np.sum(similarity_matrix[user_favorites_ids], axis=0)\n",
    "\n",
    "    valid_animes = animes.copy()\n",
    "\n",
    "    if age is not None and age < 18:\n",
    "        valid_animes = valid_animes[valid_animes['18_above'] == 0]\n",
    "\n",
    "    if type == 'movie':\n",
    "        valid_animes = valid_animes[valid_animes['episodes'] == 1]\n",
    "    elif type == 'series':\n",
    "        valid_animes = valid_animes[valid_animes['episodes'] > 1]\n",
    "\n",
    "    user_similarities = pd.Series(user_similarities, index=animes.index)\n",
    "    user_similarities = user_similarities.loc[valid_animes.index]\n",
    "\n",
    "    top_k_indices = user_similarities.nlargest(k + len(user_favorites_ids)).index\n",
    "    top_k_indices = [idx for idx in top_k_indices if idx not in user_favorites_ids][:k]\n",
    "\n",
    "    return [get_anime_title(idx) for idx in top_k_indices]\n",
    "\n",
    "def recommend_animes_by_genres_and_similarity(user_favorite_titles, user_favorite_genres, k=10, age=None, type=None):\n",
    "    user_favorites_ids = [get_anime_id(title) for title in user_favorite_titles]\n",
    "    user_favorites_ids = [x for x in user_favorites_ids if x is not None]  # Remove any None values\n",
    "\n",
    "    genre_columns = [col for col in animes.columns if col in user_favorite_genres]\n",
    "    genre_scores = animes[genre_columns].sum(axis=1)\n",
    "\n",
    "    user_similarities = np.sum(similarity_matrix[user_favorites_ids], axis=0)\n",
    "    combined_scores = genre_scores * user_similarities\n",
    "\n",
    "    valid_animes = animes.copy()\n",
    "\n",
    "    if age is not None and age < 18:\n",
    "        valid_animes = valid_animes[valid_animes['18_above'] == 0]\n",
    "\n",
    "    if type == 'movie':\n",
    "        valid_animes = valid_animes[valid_animes['episodes'] == 1]\n",
    "    elif type == 'series':\n",
    "        valid_animes = valid_animes[valid_animes['episodes'] > 1]\n",
    "    \n",
    "    top_k_indices = combined_scores.argsort()[-k-1:][::-1]\n",
    "    top_k_indices = [idx for idx in top_k_indices if idx not in user_favorites_ids][:k]\n",
    "\n",
    "    return [get_anime_title(idx) for idx in top_k_indices]"
   ]
  },
  {
   "cell_type": "code",
   "execution_count": null,
   "id": "f0b35c2f",
   "metadata": {},
   "outputs": [],
   "source": []
  },
  {
   "cell_type": "code",
   "execution_count": null,
   "id": "15882b59",
   "metadata": {},
   "outputs": [],
   "source": [
    "user_favorites_titles = ['Naruto', 'Death Note', 'Attack on Titan']\n",
    "user_favorites_genres = ['Vampire', 'Horror', 'Demons']\n",
    "user_age = 16\n",
    "type_anime='movie'\n",
    "\n",
    "recommendations = recommend_animes_by_titles(user_favorites_titles, age=user_age,type=type_anime)\n",
    "print(\"Recommended animes by titles:\", recommendations)\n",
    "\n",
    "recommendations = recommend_animes_by_genres_only(user_favorites_genres, age=user_age,type=type_anime)\n",
    "print(\"Recommended animes by genres:\", recommendations)\n",
    "\n",
    "recommendations = recommend_animes_by_genres_and_similarity(user_favorites_titles, user_favorites_genres, age=user_age,type=type_anime)\n",
    "print(\"Recommended animes combined:\", recommendations)"
   ]
  },
  {
   "cell_type": "markdown",
   "id": "491fa3b2",
   "metadata": {},
   "source": [
    "# Cold Start Recommendation"
   ]
  },
  {
   "cell_type": "code",
   "execution_count": null,
   "id": "e0dcc7f8",
   "metadata": {},
   "outputs": [],
   "source": [
    "def recommend_animes_by_genres_only(user_favorite_genres, k=10, age=None, type=None):\n",
    "    genre_scores = get_genre_score(user_favorite_genres)\n",
    "\n",
    "    valid_animes = animes.copy()\n",
    "\n",
    "    if age is not None and age < 18:\n",
    "        valid_animes = valid_animes[valid_animes['18_above'] == 0]\n",
    "\n",
    "    if type == 'movie':\n",
    "        valid_animes = valid_animes[valid_animes['episodes'] == 1]\n",
    "    elif type == 'series':\n",
    "        valid_animes = valid_animes[valid_animes['episodes'] > 1]\n",
    "\n",
    "    genre_scores = pd.Series(genre_scores, index=animes.index)\n",
    "    genre_scores = genre_scores.loc[valid_animes.index]\n",
    "\n",
    "    top_k_indices = genre_scores.nlargest(k).index\n",
    "\n",
    "    return [get_anime_title(idx) for idx in top_k_indices]"
   ]
  },
  {
   "cell_type": "code",
   "execution_count": null,
   "id": "e314d15d",
   "metadata": {},
   "outputs": [],
   "source": [
    "user_favorites_titles = ['Naruto', 'Death Note', 'Attack on Titan']\n",
    "user_favorites_genres = ['Vampire', 'Horror', 'Demons']\n",
    "user_age = 16\n",
    "type_anime='movie'\n",
    "\n",
    "\n",
    "recommendations = recommend_animes_by_genres_only(user_favorites_genres, age=user_age,type=type_anime)\n",
    "print(\"Recommended animes by genres:\", recommendations)"
   ]
  },
  {
   "cell_type": "code",
   "execution_count": null,
   "id": "267c2c99",
   "metadata": {},
   "outputs": [],
   "source": []
  },
  {
   "cell_type": "code",
   "execution_count": null,
   "id": "b02d90dc",
   "metadata": {},
   "outputs": [],
   "source": [
    "# Reset the index for user_feature_matrix and favorites_anime_matrix\n",
    "user_feature_matrix = user_feature_matrix.reset_index()\n",
    "favorites_anime_matrix = favorites_anime_matrix.reset_index()\n",
    "\n",
    "# Combine the gender column with the user-anime preference matrix\n",
    "user_feature_matrix = pd.concat([user_feature_matrix, favorites_anime_matrix], axis=1)"
   ]
  },
  {
   "cell_type": "code",
   "execution_count": null,
   "id": "fa42be9d",
   "metadata": {},
   "outputs": [],
   "source": [
    "profiles['profile']"
   ]
  },
  {
   "cell_type": "code",
   "execution_count": null,
   "id": "ff2c5a22",
   "metadata": {},
   "outputs": [],
   "source": [
    "user_item_matrix = reviews.pivot_table(index='profile', columns='anime_uid', values='score')\n",
    "user_item_matrix"
   ]
  },
  {
   "cell_type": "code",
   "execution_count": null,
   "id": "bf424cdf",
   "metadata": {},
   "outputs": [],
   "source": [
    "from sklearn.metrics.pairwise import cosine_similarity\n",
    "\n",
    "user_similarity_matrix = cosine_similarity(user_item_matrix.fillna(0))\n"
   ]
  },
  {
   "cell_type": "code",
   "execution_count": null,
   "id": "5265c346",
   "metadata": {},
   "outputs": [],
   "source": [
    "user_similarity_matrix"
   ]
  },
  {
   "cell_type": "code",
   "execution_count": null,
   "id": "aaba1db6",
   "metadata": {},
   "outputs": [],
   "source": [
    "def find_k_similar_users(user, k=5):\n",
    "    user_index = user_item_matrix.index.get_loc(user)\n",
    "    user_similarities = user_similarity_matrix[user_index]\n",
    "    \n",
    "    # Ignore the similarity score of the user with themselves\n",
    "    user_similarities[user_index] = -1\n",
    "    \n",
    "    top_k_indices = user_similarities.argsort()[-k:][::-1]\n",
    "    top_k_users = [user_item_matrix.index[idx] for idx in top_k_indices]\n",
    "    top_k_scores = user_similarities[top_k_indices]\n",
    "    \n",
    "    return top_k_users, top_k_scores\n"
   ]
  },
  {
   "cell_type": "code",
   "execution_count": null,
   "id": "ee23f4fb",
   "metadata": {},
   "outputs": [],
   "source": [
    "animes.columns"
   ]
  },
  {
   "cell_type": "code",
   "execution_count": null,
   "id": "4b67b987",
   "metadata": {},
   "outputs": [],
   "source": [
    "def recommend_animes_for_user(user, k=5):\n",
    "    similar_users, similar_users_scores = find_k_similar_users(user, k)\n",
    "    similar_users_preferences = user_item_matrix.loc[similar_users].fillna(0)\n",
    "    weighted_preferences = similar_users_preferences.mul(similar_users_scores, axis=0)\n",
    "    user_preferences = weighted_preferences.sum(axis=0) / similar_users_scores.sum()\n",
    "    \n",
    "    # Ignore animes the user has already rated\n",
    "    user_rated_animes = user_item_matrix.loc[user].dropna().index\n",
    "    user_preferences[user_rated_animes] = -1\n",
    "    \n",
    "    top_k_indices = user_preferences.argsort()[-k:][::-1]\n",
    "    print(top_k_indices)\n",
    "    top_k_animes = [animes[animes['uid'] == anime_id].iloc[0]['title'] for anime_id in top_k_indices]\n",
    "    \n",
    "    return top_k_animes\n"
   ]
  },
  {
   "cell_type": "code",
   "execution_count": null,
   "id": "db1e0dae",
   "metadata": {},
   "outputs": [],
   "source": [
    "user = 'DesolatePsyche'\n",
    "recommendations = recommend_animes_for_user(user)\n",
    "print(\"Recommended animes for user:\", recommendations)\n"
   ]
  },
  {
   "cell_type": "code",
   "execution_count": null,
   "id": "e6363c0d",
   "metadata": {},
   "outputs": [],
   "source": [
    "len(animes)"
   ]
  },
  {
   "cell_type": "code",
   "execution_count": null,
   "id": "bcc177b7",
   "metadata": {},
   "outputs": [],
   "source": []
  },
  {
   "cell_type": "code",
   "execution_count": null,
   "id": "e944355a",
   "metadata": {},
   "outputs": [],
   "source": []
  },
  {
   "cell_type": "code",
   "execution_count": null,
   "id": "9a933045",
   "metadata": {},
   "outputs": [],
   "source": []
  },
  {
   "cell_type": "code",
   "execution_count": null,
   "id": "9b489402",
   "metadata": {},
   "outputs": [],
   "source": []
  },
  {
   "cell_type": "code",
   "execution_count": null,
   "id": "aa5f2773",
   "metadata": {},
   "outputs": [],
   "source": [
    "# One-hot encode the gender column\n",
    "profiles['gender'] = profiles['gender'].apply(lambda x: 1 if x == 'Male' else (-1 if x == 'Female' else 0))\n",
    "user_feature_matrix = profiles[['profile', 'gender']].set_index('profile')\n",
    "\n",
    "# Create user-anime preference matrix from the favorites_anime column\n",
    "favorites_anime_matrix = profiles.explode('favorites_anime')[['profile', 'favorites_anime']]\n",
    "favorites_anime_matrix['preference'] = 1\n",
    "favorites_anime_matrix = favorites_anime_matrix.pivot_table(index='profile', columns='favorites_anime', values='preference').fillna(0)\n",
    "\n",
    "# Combine the gender column with the user-anime preference matrix\n",
    "user_feature_matrix = pd.concat([user_feature_matrix, favorites_anime_matrix], axis=1)"
   ]
  },
  {
   "cell_type": "code",
   "execution_count": null,
   "id": "fa6fd753",
   "metadata": {},
   "outputs": [],
   "source": [
    "reviews_with_gender = reviews.merge(profiles[['profile', 'gender']], on='profile')"
   ]
  },
  {
   "cell_type": "code",
   "execution_count": null,
   "id": "f7b19d10",
   "metadata": {},
   "outputs": [],
   "source": [
    "user_anime_rating_matrix = reviews_with_gender.pivot_table(index='profile', columns='anime_uid', values='score')\n",
    "user_feature_matrix = pd.concat([user_feature_matrix, user_anime_rating_matrix], axis=1)"
   ]
  },
  {
   "cell_type": "code",
   "execution_count": null,
   "id": "2f5d0608",
   "metadata": {},
   "outputs": [],
   "source": [
    "from sklearn.metrics.pairwise import cosine_similarity\n",
    "\n",
    "user_similarity_matrix = cosine_similarity(user_feature_matrix.fillna(0))\n"
   ]
  }
 ],
 "metadata": {
  "kernelspec": {
   "display_name": "Python 3 (ipykernel)",
   "language": "python",
   "name": "python3"
  },
  "language_info": {
   "codemirror_mode": {
    "name": "ipython",
    "version": 3
   },
   "file_extension": ".py",
   "mimetype": "text/x-python",
   "name": "python",
   "nbconvert_exporter": "python",
   "pygments_lexer": "ipython3",
   "version": "3.9.13"
  }
 },
 "nbformat": 4,
 "nbformat_minor": 5
}
